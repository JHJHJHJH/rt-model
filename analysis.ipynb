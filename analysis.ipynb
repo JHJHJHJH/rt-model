
{
 "cells": [
  {
   "cell_type": "code",
   "execution_count": null,
   "metadata": {},
   "outputs": [],
   "source": [
    "import pandas as pd\n",
    "import matplotlib.pyplot as plt\n",
    "\n",
    "# Load the dataset\n",
    "df = pd.read_csv('resources/Building_A_summary_table.csv')\n",
    "\n",
    "# Convert the 'record_timestamp' column to datetime objects\n",
    "df['record_timestamp'] = pd.to_datetime(df['record_timestamp'])\n",
    "\n",
    "# Plot the time series data for all chillers' power consumption\n",
    "plt.figure(figsize=(15, 7))\n",
    "plt.plot(df['record_timestamp'], df['CHR-01-KW'], label='Chiller 1')\n",
    "plt.plot(df['record_timestamp'], df['CHR-02-KW'], label='Chiller 2')\n",
    "plt.plot(df['record_timestamp'], df['CHR-03-KW'], label='Chiller 3')\n",
    "plt.plot(df['record_timestamp'], df['CHR-04-KW'], label='Chiller 4')\n",
    "plt.xlabel('Timestamp')\n",
    "plt.ylabel('Power Consumption (kW)')\n",
    "plt.title('Chiller Power Consumption Over Time')\n",
    "plt.legend()\n",
    "plt.grid(True)\n",
    "plt.show()"
   ]
  }
 ],
 "metadata": {
  "kernelspec": {
   "display_name": "Python 3",
   "language": "python",
   "name": "python3"
  },
  "language_info": {
   "codemirror_mode": {
    "name": "ipython",
    "version": 3
   },
   "file_extension": ".py",
   "mimetype": "text/x-python",
   "name": "python",
   "nbconvert_exporter": "python",
   "pygments_lexer": "ipython3",
   "version": "3.9.7"
  }
 },
 "nbformat": 4,
 "nbformat_minor": 4
}
